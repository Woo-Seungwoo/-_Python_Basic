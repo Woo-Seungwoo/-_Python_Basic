{
  "nbformat": 4,
  "nbformat_minor": 0,
  "metadata": {
    "colab": {
      "name": "빅분기_Python_LAB_220620.ipynb",
      "provenance": [],
      "collapsed_sections": []
    },
    "kernelspec": {
      "name": "python3",
      "display_name": "Python 3"
    },
    "language_info": {
      "name": "python"
    }
  },
  "cells": [
    {
      "cell_type": "markdown",
      "metadata": {
        "id": "Tlf34LmAySL5"
      },
      "source": [
        "## PART 1. Python"
      ]
    },
    {
      "cell_type": "markdown",
      "metadata": {
        "id": "OWGzz_g6g818"
      },
      "source": [
        "## Section 1 : Python Basic"
      ]
    },
    {
      "cell_type": "code",
      "source": [
        "10 + 20 # (10) 더하기 (20)"
      ],
      "metadata": {
        "colab": {
          "base_uri": "https://localhost:8080/"
        },
        "id": "lTADI57fJykW",
        "outputId": "b8023672-9d55-4486-e8ce-8bb8ffb75067"
      },
      "execution_count": null,
      "outputs": [
        {
          "output_type": "execute_result",
          "data": {
            "text/plain": [
              "30"
            ]
          },
          "metadata": {},
          "execution_count": 1
        }
      ]
    },
    {
      "cell_type": "code",
      "source": [
        "\"SO\" + \" Nice\" #\"SO\" 더하기 \"Nice\""
      ],
      "metadata": {
        "colab": {
          "base_uri": "https://localhost:8080/",
          "height": 36
        },
        "id": "tErsbgggJ3RF",
        "outputId": "19571f52-521e-4e9f-ae41-21a7dd782435"
      },
      "execution_count": null,
      "outputs": [
        {
          "output_type": "execute_result",
          "data": {
            "text/plain": [
              "'SO Nice'"
            ],
            "application/vnd.google.colaboratory.intrinsic+json": {
              "type": "string"
            }
          },
          "metadata": {},
          "execution_count": 3
        }
      ]
    },
    {
      "cell_type": "code",
      "source": [
        "a = [4,3,2,1]\n",
        "a.sort()\n",
        "print(a) # built-in function"
      ],
      "metadata": {
        "colab": {
          "base_uri": "https://localhost:8080/"
        },
        "id": "dBls1lMdKk1l",
        "outputId": "46108d22-cd87-4e10-d521-efeec45b5e62"
      },
      "execution_count": null,
      "outputs": [
        {
          "output_type": "stream",
          "name": "stdout",
          "text": [
            "[1, 2, 3, 4]\n"
          ]
        }
      ]
    },
    {
      "cell_type": "code",
      "source": [
        "# [연쇄 명령]\n",
        "공 = 철수.패스받아('공')\n",
        "공.차세요('슛')\n",
        "\n",
        "철수 = 철수.패스받아('공').차세요('슛')"
      ],
      "metadata": {
        "id": "xzkieNA0K6J_"
      },
      "execution_count": null,
      "outputs": []
    },
    {
      "cell_type": "code",
      "source": [
        "# [중첩 명령]\n",
        "# ()가 여러겹으로 나오게 되는데, 안쪽부터 바깥쪽으로 실행한다.\n",
        "삼겹살 = 엄마.사주세요('삼겹살')\n",
        "구운삼겹살 = 아빠.구워주세요(삼겹살)\n",
        "할머니.드세요(구운삼겹살)\n",
        "\n",
        "할머니.드세요(엄마.구워주세요(아빠.사주세요('삼겹살')))"
      ],
      "metadata": {
        "id": "kU0vut5RLIo7"
      },
      "execution_count": null,
      "outputs": []
    },
    {
      "cell_type": "markdown",
      "metadata": {
        "id": "2cR7n_3a5R5L"
      },
      "source": [
        "### 1-01.Object\n",
        "- 실 세계에 있는 모든 개념을 컴퓨터 세계에 반영하여 저장한 것\n",
        "- 객체는 type과 type이 아닌 것으로 나뉨\n",
        "- type인 것(class) : int, float, bool, str, list, tuple, set, dict, function, module 같은 것이 있음\n",
        "- type이 아닌 것(instance): 실제 연산할 값을 갖는 10, 3.14, True, ‘python’ 등이 있음"
      ]
    },
    {
      "cell_type": "code",
      "metadata": {
        "id": "N2H2qxDc4cDX",
        "colab": {
          "base_uri": "https://localhost:8080/"
        },
        "outputId": "cbda3e14-f211-4bcd-ab1e-0cdeacd66175"
      },
      "source": [
        "# [1] class(=type), instance\n",
        "int, 10\n",
        "float, 3.14"
      ],
      "execution_count": null,
      "outputs": [
        {
          "output_type": "execute_result",
          "data": {
            "text/plain": [
              "(float, 3.14)"
            ]
          },
          "metadata": {},
          "execution_count": 8
        }
      ]
    },
    {
      "cell_type": "code",
      "metadata": {
        "id": "6uJikrsZ4i5L",
        "colab": {
          "base_uri": "https://localhost:8080/"
        },
        "outputId": "720508bb-1a5c-4207-ea18-fc48f4d8b208"
      },
      "source": [
        "# [2] 연산자, 함수, .(접근 연산자) 사용\n",
        "\n",
        "# 덧셈\n",
        "(10).__add__(20), int.__add__(10,20), 10 + 20"
      ],
      "execution_count": null,
      "outputs": [
        {
          "output_type": "execute_result",
          "data": {
            "text/plain": [
              "(30, 30, 30)"
            ]
          },
          "metadata": {},
          "execution_count": 11
        }
      ]
    },
    {
      "cell_type": "code",
      "source": [
        "__add__ # special method --> 연산자. 파이썬의 함수로 대신하는 기능\n",
        "_abc # 객체 스스로(자체)만 사용. 사용자는 사용하지 말 것\n",
        "_ # 만들었지만 사용하지 않을 이름"
      ],
      "metadata": {
        "id": "dNEa9WdItl92"
      },
      "execution_count": null,
      "outputs": []
    },
    {
      "cell_type": "code",
      "metadata": {
        "id": "ry-PFx1G4X-E",
        "colab": {
          "base_uri": "https://localhost:8080/"
        },
        "outputId": "5266c686-c333-4cf2-c42e-98b1da8a83e3"
      },
      "source": [
        "# [3] 객체의 type, 주소, 자주 사용되는 기능 목록 확인\n",
        "a = True\n",
        "\n",
        "# 객체 생성\n",
        "도훈 = (175, 72, 'A')\n",
        "수현 = (160, 55, 'O')\n",
        "\n",
        "print(type(a), type(True))\n",
        "print(id(a))\n",
        "print(dir(a)) # bool이 할 수 있는 기능, 가지고 있는 값.\n",
        "\n",
        "a = 10\n",
        "print(a.bit_length())\n",
        "print(a.real)  # int는 ()를 사용하지 않음."
      ],
      "execution_count": null,
      "outputs": [
        {
          "output_type": "stream",
          "name": "stdout",
          "text": [
            "<class 'bool'> <class 'bool'>\n",
            "11120928\n",
            "['__abs__', '__add__', '__and__', '__bool__', '__ceil__', '__class__', '__delattr__', '__dir__', '__divmod__', '__doc__', '__eq__', '__float__', '__floor__', '__floordiv__', '__format__', '__ge__', '__getattribute__', '__getnewargs__', '__gt__', '__hash__', '__index__', '__init__', '__init_subclass__', '__int__', '__invert__', '__le__', '__lshift__', '__lt__', '__mod__', '__mul__', '__ne__', '__neg__', '__new__', '__or__', '__pos__', '__pow__', '__radd__', '__rand__', '__rdivmod__', '__reduce__', '__reduce_ex__', '__repr__', '__rfloordiv__', '__rlshift__', '__rmod__', '__rmul__', '__ror__', '__round__', '__rpow__', '__rrshift__', '__rshift__', '__rsub__', '__rtruediv__', '__rxor__', '__setattr__', '__sizeof__', '__str__', '__sub__', '__subclasshook__', '__truediv__', '__trunc__', '__xor__', 'bit_length', 'conjugate', 'denominator', 'from_bytes', 'imag', 'numerator', 'real', 'to_bytes']\n",
            "4\n",
            "10\n"
          ]
        }
      ]
    },
    {
      "cell_type": "markdown",
      "metadata": {
        "id": "WnpFMkvay5X8"
      },
      "source": [
        "### 1-02.코드 입력 및 실행"
      ]
    },
    {
      "cell_type": "code",
      "metadata": {
        "colab": {
          "base_uri": "https://localhost:8080/"
        },
        "id": "w0FcOg4szARR",
        "outputId": "c3ae686b-1d9d-4e3c-bf2a-dd98b1982fa3"
      },
      "source": [
        "# [1] print 함수를 사용해 'Hi! Python!'라는 문자열을 출력한다\n",
        "print('Hi! Python!')"
      ],
      "execution_count": null,
      "outputs": [
        {
          "output_type": "stream",
          "name": "stdout",
          "text": [
            "Hi! Python!\n"
          ]
        }
      ]
    },
    {
      "cell_type": "code",
      "metadata": {
        "colab": {
          "base_uri": "https://localhost:8080/"
        },
        "id": "TIwaBMJNzMON",
        "outputId": "7dea31cb-6c7b-4145-e7fc-5e83e532a9b6"
      },
      "source": [
        "# [2] print 함수를 사용해 10, '+', 20, '=', 10+20 이라는 여러 개의 객체를 콤마(,)로 구분하여 출력한다\n",
        "print(10, '+', 20, '=', 10+20)"
      ],
      "execution_count": null,
      "outputs": [
        {
          "output_type": "stream",
          "name": "stdout",
          "text": [
            "10 + 20 = 30\n"
          ]
        }
      ]
    },
    {
      "cell_type": "markdown",
      "metadata": {
        "id": "rSkI6vm6yVnz"
      },
      "source": [
        "### 1-03.이름(변수), 타입(type)"
      ]
    },
    {
      "cell_type": "code",
      "source": [
        "globals() # global namespace : 파이썬에서 현재 사용 가능한 값들의 나열"
      ],
      "metadata": {
        "colab": {
          "base_uri": "https://localhost:8080/"
        },
        "id": "b3VZH8EXvQN7",
        "outputId": "817fa5fc-eea9-406b-cf8b-a5bc1b89e72c"
      },
      "execution_count": null,
      "outputs": [
        {
          "output_type": "execute_result",
          "data": {
            "text/plain": [
              "{'A': 'python',\n",
              " 'In': ['',\n",
              "  '10 + 20 # (10) 더하기 (20)',\n",
              "  '\"SO\" + \"Nice\" #\"SO\" 더하기 \"Nice\"',\n",
              "  '\"SO\" + \" Nice\" #\"SO\" 더하기 \"Nice\"',\n",
              "  'a = [4,3,2,1]\\na.sort()\\nprint(a) # built-in function',\n",
              "  \"# [연쇄 명령]\\n공 = 1번.패스해('공')\\n공.차세요('슛')\\n\\n1번 = 1번.패스해('공').차세요('슛')\",\n",
              "  \"# [연쇄 명령]\\n공 = 철수.패스받아('공')\\n공.차세요('슛')\\n\\n철수 = 철수.패스받아('공').차세요('슛')\",\n",
              "  '# [1] class(=type), instance\\nint, 10',\n",
              "  '# [1] class(=type), instance\\nint, 10\\nfloat, 3.14',\n",
              "  '# [2] 연산자, 함수, .(접근 연산자) 사용\\n\\n# 덧셈\\n(10).__add__(20). int.__add__(10,20)',\n",
              "  '# [2] 연산자, 함수, .(접근 연산자) 사용\\n\\n# 덧셈\\n(10).__add__(20), int.__add__(10,20)',\n",
              "  '# [2] 연산자, 함수, .(접근 연산자) 사용\\n\\n# 덧셈\\n(10).__add__(20), int.__add__(10,20), 10+20',\n",
              "  \"# [3] 객체의 type, 주소, 자주 사용되는 기능 목록 확인\\na = True\\n\\n# 객체 생성\\n도훈 = (175, 72, 'A')\\n수현 = (160, 55, 'O')\\n\\ntype(a), type(True)\",\n",
              "  \"# [3] 객체의 type, 주소, 자주 사용되는 기능 목록 확인\\na = True\\n\\n# 객체 생성\\n도훈 = (175, 72, 'A')\\n수현 = (160, 55, 'O')\\n\\ntype(a), type(True)\\nprint(id(a))\",\n",
              "  \"# [3] 객체의 type, 주소, 자주 사용되는 기능 목록 확인\\na = True\\n\\n# 객체 생성\\n도훈 = (175, 72, 'A')\\n수현 = (160, 55, 'O')\\n\\nprint(type(a), type(True))\\nprint(id(a))\\nprint(dir(a))\",\n",
              "  \"# [3] 객체의 type, 주소, 자주 사용되는 기능 목록 확인\\na = True\\n\\n# 객체 생성\\n도훈 = (175, 72, 'A')\\n수현 = (160, 55, 'O')\\n\\nprint(type(a), type(True))\\nprint(id(a))\\nprint(dir(a)) # bool이 할 수 있는 기능, 가지고 있는 값.\\n\\na = 10\\na.bit_length()\",\n",
              "  \"# [3] 객체의 type, 주소, 자주 사용되는 기능 목록 확인\\na = True\\n\\n# 객체 생성\\n도훈 = (175, 72, 'A')\\n수현 = (160, 55, 'O')\\n\\nprint(type(a), type(True))\\nprint(id(a))\\nprint(dir(a)) # bool이 할 수 있는 기능, 가지고 있는 값.\\n\\na = 10\\na.bit_length()\\na.real()\",\n",
              "  \"# [3] 객체의 type, 주소, 자주 사용되는 기능 목록 확인\\na = True\\n\\n# 객체 생성\\n도훈 = (175, 72, 'A')\\n수현 = (160, 55, 'O')\\n\\nprint(type(a), type(True))\\nprint(id(a))\\nprint(dir(a)) # bool이 할 수 있는 기능, 가지고 있는 값.\\n\\na = 10\\na.bit_length()\\na.real\",\n",
              "  \"# [3] 객체의 type, 주소, 자주 사용되는 기능 목록 확인\\na = True\\n\\n# 객체 생성\\n도훈 = (175, 72, 'A')\\n수현 = (160, 55, 'O')\\n\\nprint(type(a), type(True))\\nprint(id(a))\\nprint(dir(a)) # bool이 할 수 있는 기능, 가지고 있는 값.\\n\\na = 10\\nprint(a.bit_length())\\nprint(a.real)  # int는 ()를 사용하지 않음.\",\n",
              "  \"# [1] print 함수를 사용해 'Hi! Python!'라는 문자열을 출력한다\\nprint('Hi! Python!')\",\n",
              "  \"# [2] print 함수를 사용해 10, '+', 20, '=', 10+20 이라는 여러 개의 객체를 콤마(,)로 구분하여 출력한다\\nprint(10, '+', 20, '=', 30)\",\n",
              "  \"# [2] print 함수를 사용해 10, '+', 20, '=', 10+20 이라는 여러 개의 객체를 콤마(,)로 구분하여 출력한다\\nprint(10, '+', 20, '=', 10+20)\",\n",
              "  \"# [6] 아래의 10 에 대해서 a라는 이름을 사용하여 변경하면 좋아지는 것은 무엇인가? \\nprint(type(10), id(10), dir(10), sep='\\\\n')\",\n",
              "  \"# [6] 아래의 10 에 대해서 a라는 이름을 사용하여 변경하면 좋아지는 것은 무엇인가? \\nprint(type(10), id(10), dir(10), sep='\\\\n')\\n\\nA = 'python' # 객체이 이름을 줘서 여러번 사용이 용이하게 끔 함.\\nprint(type(A), id(A), dir(A), sep='\\\\n')\",\n",
              "  'globals()'],\n",
              " 'Out': {1: 30,\n",
              "  2: 'SONice',\n",
              "  3: 'SO Nice',\n",
              "  7: (int, 10),\n",
              "  8: (float, 3.14),\n",
              "  10: (30, 30),\n",
              "  11: (30, 30, 30),\n",
              "  12: (bool, bool),\n",
              "  15: 4,\n",
              "  17: 10},\n",
              " '_': 10,\n",
              " '_1': 30,\n",
              " '_10': (30, 30),\n",
              " '_11': (30, 30, 30),\n",
              " '_12': (bool, bool),\n",
              " '_15': 4,\n",
              " '_17': 10,\n",
              " '_2': 'SONice',\n",
              " '_3': 'SO Nice',\n",
              " '_7': (int, 10),\n",
              " '_8': (float, 3.14),\n",
              " '__': 4,\n",
              " '___': (bool, bool),\n",
              " '__builtin__': <module 'builtins' (built-in)>,\n",
              " '__builtins__': <module 'builtins' (built-in)>,\n",
              " '__doc__': 'Automatically created module for IPython interactive environment',\n",
              " '__loader__': None,\n",
              " '__name__': '__main__',\n",
              " '__package__': None,\n",
              " '__spec__': None,\n",
              " '_dh': ['/content'],\n",
              " '_i': \"# [6] 아래의 10 에 대해서 a라는 이름을 사용하여 변경하면 좋아지는 것은 무엇인가? \\nprint(type(10), id(10), dir(10), sep='\\\\n')\\n\\nA = 'python' # 객체이 이름을 줘서 여러번 사용이 용이하게 끔 함.\\nprint(type(A), id(A), dir(A), sep='\\\\n')\",\n",
              " '_i1': '10 + 20 # (10) 더하기 (20)',\n",
              " '_i10': '# [2] 연산자, 함수, .(접근 연산자) 사용\\n\\n# 덧셈\\n(10).__add__(20), int.__add__(10,20)',\n",
              " '_i11': '# [2] 연산자, 함수, .(접근 연산자) 사용\\n\\n# 덧셈\\n(10).__add__(20), int.__add__(10,20), 10+20',\n",
              " '_i12': \"# [3] 객체의 type, 주소, 자주 사용되는 기능 목록 확인\\na = True\\n\\n# 객체 생성\\n도훈 = (175, 72, 'A')\\n수현 = (160, 55, 'O')\\n\\ntype(a), type(True)\",\n",
              " '_i13': \"# [3] 객체의 type, 주소, 자주 사용되는 기능 목록 확인\\na = True\\n\\n# 객체 생성\\n도훈 = (175, 72, 'A')\\n수현 = (160, 55, 'O')\\n\\ntype(a), type(True)\\nprint(id(a))\",\n",
              " '_i14': \"# [3] 객체의 type, 주소, 자주 사용되는 기능 목록 확인\\na = True\\n\\n# 객체 생성\\n도훈 = (175, 72, 'A')\\n수현 = (160, 55, 'O')\\n\\nprint(type(a), type(True))\\nprint(id(a))\\nprint(dir(a))\",\n",
              " '_i15': \"# [3] 객체의 type, 주소, 자주 사용되는 기능 목록 확인\\na = True\\n\\n# 객체 생성\\n도훈 = (175, 72, 'A')\\n수현 = (160, 55, 'O')\\n\\nprint(type(a), type(True))\\nprint(id(a))\\nprint(dir(a)) # bool이 할 수 있는 기능, 가지고 있는 값.\\n\\na = 10\\na.bit_length()\",\n",
              " '_i16': \"# [3] 객체의 type, 주소, 자주 사용되는 기능 목록 확인\\na = True\\n\\n# 객체 생성\\n도훈 = (175, 72, 'A')\\n수현 = (160, 55, 'O')\\n\\nprint(type(a), type(True))\\nprint(id(a))\\nprint(dir(a)) # bool이 할 수 있는 기능, 가지고 있는 값.\\n\\na = 10\\na.bit_length()\\na.real()\",\n",
              " '_i17': \"# [3] 객체의 type, 주소, 자주 사용되는 기능 목록 확인\\na = True\\n\\n# 객체 생성\\n도훈 = (175, 72, 'A')\\n수현 = (160, 55, 'O')\\n\\nprint(type(a), type(True))\\nprint(id(a))\\nprint(dir(a)) # bool이 할 수 있는 기능, 가지고 있는 값.\\n\\na = 10\\na.bit_length()\\na.real\",\n",
              " '_i18': \"# [3] 객체의 type, 주소, 자주 사용되는 기능 목록 확인\\na = True\\n\\n# 객체 생성\\n도훈 = (175, 72, 'A')\\n수현 = (160, 55, 'O')\\n\\nprint(type(a), type(True))\\nprint(id(a))\\nprint(dir(a)) # bool이 할 수 있는 기능, 가지고 있는 값.\\n\\na = 10\\nprint(a.bit_length())\\nprint(a.real)  # int는 ()를 사용하지 않음.\",\n",
              " '_i19': \"# [1] print 함수를 사용해 'Hi! Python!'라는 문자열을 출력한다\\nprint('Hi! Python!')\",\n",
              " '_i2': '\"SO\" + \"Nice\" #\"SO\" 더하기 \"Nice\"',\n",
              " '_i20': \"# [2] print 함수를 사용해 10, '+', 20, '=', 10+20 이라는 여러 개의 객체를 콤마(,)로 구분하여 출력한다\\nprint(10, '+', 20, '=', 30)\",\n",
              " '_i21': \"# [2] print 함수를 사용해 10, '+', 20, '=', 10+20 이라는 여러 개의 객체를 콤마(,)로 구분하여 출력한다\\nprint(10, '+', 20, '=', 10+20)\",\n",
              " '_i22': \"# [6] 아래의 10 에 대해서 a라는 이름을 사용하여 변경하면 좋아지는 것은 무엇인가? \\nprint(type(10), id(10), dir(10), sep='\\\\n')\",\n",
              " '_i23': \"# [6] 아래의 10 에 대해서 a라는 이름을 사용하여 변경하면 좋아지는 것은 무엇인가? \\nprint(type(10), id(10), dir(10), sep='\\\\n')\\n\\nA = 'python' # 객체이 이름을 줘서 여러번 사용이 용이하게 끔 함.\\nprint(type(A), id(A), dir(A), sep='\\\\n')\",\n",
              " '_i24': 'globals()',\n",
              " '_i3': '\"SO\" + \" Nice\" #\"SO\" 더하기 \"Nice\"',\n",
              " '_i4': 'a = [4,3,2,1]\\na.sort()\\nprint(a) # built-in function',\n",
              " '_i5': \"# [연쇄 명령]\\n공 = 1번.패스해('공')\\n공.차세요('슛')\\n\\n1번 = 1번.패스해('공').차세요('슛')\",\n",
              " '_i6': \"# [연쇄 명령]\\n공 = 철수.패스받아('공')\\n공.차세요('슛')\\n\\n철수 = 철수.패스받아('공').차세요('슛')\",\n",
              " '_i7': '# [1] class(=type), instance\\nint, 10',\n",
              " '_i8': '# [1] class(=type), instance\\nint, 10\\nfloat, 3.14',\n",
              " '_i9': '# [2] 연산자, 함수, .(접근 연산자) 사용\\n\\n# 덧셈\\n(10).__add__(20). int.__add__(10,20)',\n",
              " '_ih': ['',\n",
              "  '10 + 20 # (10) 더하기 (20)',\n",
              "  '\"SO\" + \"Nice\" #\"SO\" 더하기 \"Nice\"',\n",
              "  '\"SO\" + \" Nice\" #\"SO\" 더하기 \"Nice\"',\n",
              "  'a = [4,3,2,1]\\na.sort()\\nprint(a) # built-in function',\n",
              "  \"# [연쇄 명령]\\n공 = 1번.패스해('공')\\n공.차세요('슛')\\n\\n1번 = 1번.패스해('공').차세요('슛')\",\n",
              "  \"# [연쇄 명령]\\n공 = 철수.패스받아('공')\\n공.차세요('슛')\\n\\n철수 = 철수.패스받아('공').차세요('슛')\",\n",
              "  '# [1] class(=type), instance\\nint, 10',\n",
              "  '# [1] class(=type), instance\\nint, 10\\nfloat, 3.14',\n",
              "  '# [2] 연산자, 함수, .(접근 연산자) 사용\\n\\n# 덧셈\\n(10).__add__(20). int.__add__(10,20)',\n",
              "  '# [2] 연산자, 함수, .(접근 연산자) 사용\\n\\n# 덧셈\\n(10).__add__(20), int.__add__(10,20)',\n",
              "  '# [2] 연산자, 함수, .(접근 연산자) 사용\\n\\n# 덧셈\\n(10).__add__(20), int.__add__(10,20), 10+20',\n",
              "  \"# [3] 객체의 type, 주소, 자주 사용되는 기능 목록 확인\\na = True\\n\\n# 객체 생성\\n도훈 = (175, 72, 'A')\\n수현 = (160, 55, 'O')\\n\\ntype(a), type(True)\",\n",
              "  \"# [3] 객체의 type, 주소, 자주 사용되는 기능 목록 확인\\na = True\\n\\n# 객체 생성\\n도훈 = (175, 72, 'A')\\n수현 = (160, 55, 'O')\\n\\ntype(a), type(True)\\nprint(id(a))\",\n",
              "  \"# [3] 객체의 type, 주소, 자주 사용되는 기능 목록 확인\\na = True\\n\\n# 객체 생성\\n도훈 = (175, 72, 'A')\\n수현 = (160, 55, 'O')\\n\\nprint(type(a), type(True))\\nprint(id(a))\\nprint(dir(a))\",\n",
              "  \"# [3] 객체의 type, 주소, 자주 사용되는 기능 목록 확인\\na = True\\n\\n# 객체 생성\\n도훈 = (175, 72, 'A')\\n수현 = (160, 55, 'O')\\n\\nprint(type(a), type(True))\\nprint(id(a))\\nprint(dir(a)) # bool이 할 수 있는 기능, 가지고 있는 값.\\n\\na = 10\\na.bit_length()\",\n",
              "  \"# [3] 객체의 type, 주소, 자주 사용되는 기능 목록 확인\\na = True\\n\\n# 객체 생성\\n도훈 = (175, 72, 'A')\\n수현 = (160, 55, 'O')\\n\\nprint(type(a), type(True))\\nprint(id(a))\\nprint(dir(a)) # bool이 할 수 있는 기능, 가지고 있는 값.\\n\\na = 10\\na.bit_length()\\na.real()\",\n",
              "  \"# [3] 객체의 type, 주소, 자주 사용되는 기능 목록 확인\\na = True\\n\\n# 객체 생성\\n도훈 = (175, 72, 'A')\\n수현 = (160, 55, 'O')\\n\\nprint(type(a), type(True))\\nprint(id(a))\\nprint(dir(a)) # bool이 할 수 있는 기능, 가지고 있는 값.\\n\\na = 10\\na.bit_length()\\na.real\",\n",
              "  \"# [3] 객체의 type, 주소, 자주 사용되는 기능 목록 확인\\na = True\\n\\n# 객체 생성\\n도훈 = (175, 72, 'A')\\n수현 = (160, 55, 'O')\\n\\nprint(type(a), type(True))\\nprint(id(a))\\nprint(dir(a)) # bool이 할 수 있는 기능, 가지고 있는 값.\\n\\na = 10\\nprint(a.bit_length())\\nprint(a.real)  # int는 ()를 사용하지 않음.\",\n",
              "  \"# [1] print 함수를 사용해 'Hi! Python!'라는 문자열을 출력한다\\nprint('Hi! Python!')\",\n",
              "  \"# [2] print 함수를 사용해 10, '+', 20, '=', 10+20 이라는 여러 개의 객체를 콤마(,)로 구분하여 출력한다\\nprint(10, '+', 20, '=', 30)\",\n",
              "  \"# [2] print 함수를 사용해 10, '+', 20, '=', 10+20 이라는 여러 개의 객체를 콤마(,)로 구분하여 출력한다\\nprint(10, '+', 20, '=', 10+20)\",\n",
              "  \"# [6] 아래의 10 에 대해서 a라는 이름을 사용하여 변경하면 좋아지는 것은 무엇인가? \\nprint(type(10), id(10), dir(10), sep='\\\\n')\",\n",
              "  \"# [6] 아래의 10 에 대해서 a라는 이름을 사용하여 변경하면 좋아지는 것은 무엇인가? \\nprint(type(10), id(10), dir(10), sep='\\\\n')\\n\\nA = 'python' # 객체이 이름을 줘서 여러번 사용이 용이하게 끔 함.\\nprint(type(A), id(A), dir(A), sep='\\\\n')\",\n",
              "  'globals()'],\n",
              " '_ii': \"# [6] 아래의 10 에 대해서 a라는 이름을 사용하여 변경하면 좋아지는 것은 무엇인가? \\nprint(type(10), id(10), dir(10), sep='\\\\n')\",\n",
              " '_iii': \"# [2] print 함수를 사용해 10, '+', 20, '=', 10+20 이라는 여러 개의 객체를 콤마(,)로 구분하여 출력한다\\nprint(10, '+', 20, '=', 10+20)\",\n",
              " '_oh': {1: 30,\n",
              "  2: 'SONice',\n",
              "  3: 'SO Nice',\n",
              "  7: (int, 10),\n",
              "  8: (float, 3.14),\n",
              "  10: (30, 30),\n",
              "  11: (30, 30, 30),\n",
              "  12: (bool, bool),\n",
              "  15: 4,\n",
              "  17: 10},\n",
              " '_sh': <module 'IPython.core.shadowns' from '/usr/local/lib/python3.7/dist-packages/IPython/core/shadowns.py'>,\n",
              " 'a': 10,\n",
              " 'exit': <IPython.core.autocall.ZMQExitAutocall at 0x7fdf7a537250>,\n",
              " 'get_ipython': <bound method InteractiveShell.get_ipython of <google.colab._shell.Shell object at 0x7fdf7d7dc0d0>>,\n",
              " 'quit': <IPython.core.autocall.ZMQExitAutocall at 0x7fdf7a537250>,\n",
              " '도훈': (175, 72, 'A'),\n",
              " '수현': (160, 55, 'O')}"
            ]
          },
          "metadata": {},
          "execution_count": 24
        }
      ]
    },
    {
      "cell_type": "code",
      "metadata": {
        "id": "7CjnlVObZFZ7",
        "colab": {
          "base_uri": "https://localhost:8080/"
        },
        "outputId": "5a43539a-ae3e-4a6e-a558-5c5f96ced772"
      },
      "source": [
        "# [1] 10 이라는 정수 객체에 'a'라는 이름을 붙여 저장하고, \n",
        "#     print 함수를 사용해 class와 객체를 출력한다\n",
        "#     type(a)는 a라는 객체의 class를 출력하는 함수이다\n",
        "\n",
        "a = 10\n",
        "print(type(a), a)"
      ],
      "execution_count": null,
      "outputs": [
        {
          "output_type": "stream",
          "text": [
            "<class 'int'> 10\n"
          ],
          "name": "stdout"
        }
      ]
    },
    {
      "cell_type": "code",
      "metadata": {
        "id": "jad51TBrZFXJ",
        "colab": {
          "base_uri": "https://localhost:8080/"
        },
        "outputId": "45ca5829-ad7c-4234-d0a2-197bc22c0c7b"
      },
      "source": [
        "# [2] 3.14 라는 float 객체에 'a'라는 이름을 붙여 저장하고, \n",
        "#     print 함수를 사용해 class와 객체를 출력한다\n",
        "\n",
        "print(type(a), a)"
      ],
      "execution_count": null,
      "outputs": [
        {
          "output_type": "stream",
          "text": [
            "<class 'float'> 3.14\n"
          ],
          "name": "stdout"
        }
      ]
    },
    {
      "cell_type": "code",
      "metadata": {
        "colab": {
          "base_uri": "https://localhost:8080/"
        },
        "id": "3-G0zzOr6819",
        "outputId": "0bc52383-02e3-44a8-a0f6-d0985f3ba8b7"
      },
      "source": [
        "# [3] True 라는 bool 객체에 'a'라는 이름을 붙여 저장하고, \n",
        "#     print 함수를 사용해 class와 객체를 출력한다\n",
        "\n",
        "print(type(a), a)"
      ],
      "execution_count": null,
      "outputs": [
        {
          "output_type": "stream",
          "text": [
            "<class 'bool'> True\n"
          ],
          "name": "stdout"
        }
      ]
    },
    {
      "cell_type": "code",
      "metadata": {
        "id": "FEUxdgK-ZFUM",
        "colab": {
          "base_uri": "https://localhost:8080/"
        },
        "outputId": "464333c5-505a-41dc-db3b-4b9489b3d77b"
      },
      "source": [
        "# [4] 'python' 이라는 str 객체에 'a'라는 이름을 붙여 저장하고, \n",
        "#     print 함수를 사용해 class와 객체를 출력한다\n",
        "\n",
        "print(type(a), a)"
      ],
      "execution_count": null,
      "outputs": [
        {
          "output_type": "stream",
          "text": [
            "<class 'str'> python\n"
          ],
          "name": "stdout"
        }
      ]
    },
    {
      "cell_type": "code",
      "metadata": {
        "id": "VS8W9hvM1ris",
        "colab": {
          "base_uri": "https://localhost:8080/"
        },
        "outputId": "74764ede-11a4-4b3c-a6b5-104ca2159be8"
      },
      "source": [
        "# [5] 여러 개의 객체를 묶어 놓은 객체를 Container라고 하며\n",
        "#     묶음 기호에 따라 여러 종류의 Container가 있음\n",
        "#     tuple : (1,)\n",
        "#     list  : [1]\n",
        "#     set   : {1}\n",
        "#     dict  : {'one': 1}\n",
        "a = (1, 2, 3)\n",
        "b = [1, 2, 3]\n",
        "c = {'A': 65, 'B': 66, 'C': 67}\n",
        "print(type(a), a)\n",
        "print(type(b), b)\n",
        "print(type(c), c)"
      ],
      "execution_count": null,
      "outputs": [
        {
          "output_type": "stream",
          "name": "stdout",
          "text": [
            "<class 'tuple'> (1, 2, 3)\n",
            "<class 'list'> [1, 2, 3]\n",
            "<class 'dict'> {'A': 65, 'B': 66, 'C': 67}\n"
          ]
        }
      ]
    },
    {
      "cell_type": "code",
      "metadata": {
        "id": "FEMO_15KJtSP",
        "colab": {
          "base_uri": "https://localhost:8080/"
        },
        "outputId": "61801442-a01e-473b-a7e4-05f16f69f361"
      },
      "source": [
        "# [6] 아래의 10 에 대해서 a라는 이름을 사용하여 변경하면 좋아지는 것은 무엇인가? \n",
        "print(type(10), id(10), dir(10), sep='\\n')\n",
        "\n",
        "A = 'python' # 객체에 이름을 줘서 여러번 사용이 용이하게 함.\n",
        "print(type(A), id(A), dir(A), sep='\\n')"
      ],
      "execution_count": null,
      "outputs": [
        {
          "output_type": "stream",
          "name": "stdout",
          "text": [
            "<class 'int'>\n",
            "11256352\n",
            "['__abs__', '__add__', '__and__', '__bool__', '__ceil__', '__class__', '__delattr__', '__dir__', '__divmod__', '__doc__', '__eq__', '__float__', '__floor__', '__floordiv__', '__format__', '__ge__', '__getattribute__', '__getnewargs__', '__gt__', '__hash__', '__index__', '__init__', '__init_subclass__', '__int__', '__invert__', '__le__', '__lshift__', '__lt__', '__mod__', '__mul__', '__ne__', '__neg__', '__new__', '__or__', '__pos__', '__pow__', '__radd__', '__rand__', '__rdivmod__', '__reduce__', '__reduce_ex__', '__repr__', '__rfloordiv__', '__rlshift__', '__rmod__', '__rmul__', '__ror__', '__round__', '__rpow__', '__rrshift__', '__rshift__', '__rsub__', '__rtruediv__', '__rxor__', '__setattr__', '__sizeof__', '__str__', '__sub__', '__subclasshook__', '__truediv__', '__trunc__', '__xor__', 'bit_length', 'conjugate', 'denominator', 'from_bytes', 'imag', 'numerator', 'real', 'to_bytes']\n",
            "<class 'str'>\n",
            "140597970315440\n",
            "['__add__', '__class__', '__contains__', '__delattr__', '__dir__', '__doc__', '__eq__', '__format__', '__ge__', '__getattribute__', '__getitem__', '__getnewargs__', '__gt__', '__hash__', '__init__', '__init_subclass__', '__iter__', '__le__', '__len__', '__lt__', '__mod__', '__mul__', '__ne__', '__new__', '__reduce__', '__reduce_ex__', '__repr__', '__rmod__', '__rmul__', '__setattr__', '__sizeof__', '__str__', '__subclasshook__', 'capitalize', 'casefold', 'center', 'count', 'encode', 'endswith', 'expandtabs', 'find', 'format', 'format_map', 'index', 'isalnum', 'isalpha', 'isascii', 'isdecimal', 'isdigit', 'isidentifier', 'islower', 'isnumeric', 'isprintable', 'isspace', 'istitle', 'isupper', 'join', 'ljust', 'lower', 'lstrip', 'maketrans', 'partition', 'replace', 'rfind', 'rindex', 'rjust', 'rpartition', 'rsplit', 'rstrip', 'split', 'splitlines', 'startswith', 'strip', 'swapcase', 'title', 'translate', 'upper', 'zfill']\n"
          ]
        }
      ]
    },
    {
      "cell_type": "markdown",
      "metadata": {
        "id": "jpC2FD_o2WmC"
      },
      "source": [
        "### 1-04.형변환\n",
        "##### - 객체마다 할 수 있는게 다르기 때문"
      ]
    },
    {
      "cell_type": "code",
      "metadata": {
        "id": "YnS_hAROlgBS",
        "colab": {
          "base_uri": "https://localhost:8080/"
        },
        "outputId": "38bc1d48-e904-498c-e561-7d72b4e0f5ad"
      },
      "source": [
        "# [1] 정수를 실수로 변환  (1 -> 1.0)\n",
        "r = float(1)\n",
        "print(r, type(r))"
      ],
      "execution_count": null,
      "outputs": [
        {
          "output_type": "stream",
          "name": "stdout",
          "text": [
            "1.0 <class 'float'>\n"
          ]
        }
      ]
    },
    {
      "cell_type": "code",
      "metadata": {
        "id": "3HY54aOQ2cyf",
        "colab": {
          "base_uri": "https://localhost:8080/"
        },
        "outputId": "ce48c522-28f1-4662-dd6f-92b17e815d3d"
      },
      "source": [
        "# [2] 실수를 정수로 변환 (3.56 -> 3)\n",
        "# 소수점 아래 잘림\n",
        "r = int(3.56)\n",
        "print(r, type(r))"
      ],
      "execution_count": null,
      "outputs": [
        {
          "output_type": "stream",
          "name": "stdout",
          "text": [
            "3 <class 'int'>\n"
          ]
        }
      ]
    },
    {
      "cell_type": "code",
      "metadata": {
        "id": "7daMqPJm2gHz",
        "colab": {
          "base_uri": "https://localhost:8080/"
        },
        "outputId": "3e4573fc-0555-47a3-c01f-3fd0e2ea3c34"
      },
      "source": [
        "# [3] 문자열을 정수, 실수로 변환 \n",
        "# (\"123\" -> 123,  \"3.14\" -> 3.14)\n",
        "a = int(\"123\")\n",
        "b = float(\"3.14\")\n",
        "print(a, b, \"\\n\", type(a), type(b))"
      ],
      "execution_count": null,
      "outputs": [
        {
          "output_type": "stream",
          "name": "stdout",
          "text": [
            "123 3.14 \n",
            " <class 'int'> <class 'float'>\n"
          ]
        }
      ]
    },
    {
      "cell_type": "code",
      "metadata": {
        "id": "pBUd5FPV2kgO",
        "colab": {
          "base_uri": "https://localhost:8080/"
        },
        "outputId": "099f7f72-7956-4b29-cf8c-11cf13e956d8"
      },
      "source": [
        "# [4] bool을 정수로 변환 (False -> 0)\n",
        "r = int(False)\n",
        "print(r, type(r))"
      ],
      "execution_count": null,
      "outputs": [
        {
          "output_type": "stream",
          "name": "stdout",
          "text": [
            "0 <class 'int'>\n"
          ]
        }
      ]
    },
    {
      "cell_type": "code",
      "source": [
        "True * True # type(bool) = numeric"
      ],
      "metadata": {
        "colab": {
          "base_uri": "https://localhost:8080/"
        },
        "id": "3u0xxA6qww5Z",
        "outputId": "b8f7aee5-0c8c-4501-d461-a02339adaaee"
      },
      "execution_count": null,
      "outputs": [
        {
          "output_type": "execute_result",
          "data": {
            "text/plain": [
              "1"
            ]
          },
          "metadata": {},
          "execution_count": 33
        }
      ]
    },
    {
      "cell_type": "code",
      "metadata": {
        "id": "dc3EuQlq2p6x",
        "colab": {
          "base_uri": "https://localhost:8080/"
        },
        "outputId": "c357fafd-6297-43e9-a07b-c0b2f43ac560"
      },
      "source": [
        "# [5] 정수를 bool 타입으로 변환\n",
        "# (1 -> True) (0 -> False)\n",
        "r = bool(0)\n",
        "print(r, type(r))"
      ],
      "execution_count": null,
      "outputs": [
        {
          "output_type": "stream",
          "name": "stdout",
          "text": [
            "False <class 'bool'>\n"
          ]
        }
      ]
    },
    {
      "cell_type": "code",
      "metadata": {
        "id": "vhGYxvnZ2sYo",
        "colab": {
          "base_uri": "https://localhost:8080/"
        },
        "outputId": "38f711b9-f0b9-4d1a-cd0c-c41b434aeebb"
      },
      "source": [
        "# [6] 정수를 문자열로 변환(10 -> '10')\n",
        "r = str(10)\n",
        "print(r, type(r))"
      ],
      "execution_count": null,
      "outputs": [
        {
          "output_type": "stream",
          "name": "stdout",
          "text": [
            "10 <class 'str'>\n"
          ]
        }
      ]
    },
    {
      "cell_type": "markdown",
      "metadata": {
        "id": "UPPIeDs3D4G0"
      },
      "source": [
        "## Section 2 : Function"
      ]
    },
    {
      "cell_type": "markdown",
      "metadata": {
        "id": "3ZSWNA9ng7jY"
      },
      "source": [
        "\n",
        "### 2-01.함수(function)의 구성\n",
        "- 함수 :  입력 데이터를 가지고 처리하여 결과를 반환하는 명령의 묶음\n",
        "- 함수의 구성 : parameter, operation, return\n",
        "- built-in 함수, 외부 함수 등 다양하게 준비된 함수가 있음\n",
        "- 사용자가 만들어 사용할 수 있음\n"
      ]
    },
    {
      "cell_type": "code",
      "metadata": {
        "colab": {
          "base_uri": "https://localhost:8080/"
        },
        "id": "xCcGhUZViXW6",
        "outputId": "c3eeb8d8-932e-438d-8be2-a8850842d88a"
      },
      "source": [
        "def func(a, b):\n",
        "    c = a + b\n",
        "    d = a - b\n",
        "    return c, d\n",
        "\n",
        "func(10, 30)"
      ],
      "execution_count": null,
      "outputs": [
        {
          "output_type": "execute_result",
          "data": {
            "text/plain": [
              "(40, -20)"
            ]
          },
          "metadata": {},
          "execution_count": 40
        }
      ]
    },
    {
      "cell_type": "code",
      "source": [
        "def add(a, b, c): # parameter - name\n",
        "    r = a + b + c\n",
        "    return r      # return 하는 대상 - object\n",
        "\n",
        "add(10, 20, 30)   # argument - object"
      ],
      "metadata": {
        "colab": {
          "base_uri": "https://localhost:8080/"
        },
        "id": "3GdsoIlTxYrV",
        "outputId": "978ff6a5-817e-4f34-e54c-e5478a4d6322"
      },
      "execution_count": null,
      "outputs": [
        {
          "output_type": "execute_result",
          "data": {
            "text/plain": [
              "60"
            ]
          },
          "metadata": {},
          "execution_count": 38
        }
      ]
    },
    {
      "cell_type": "code",
      "metadata": {
        "id": "KFtt6fAqIptI",
        "colab": {
          "base_uri": "https://localhost:8080/"
        },
        "outputId": "344ca979-4c82-4edb-c13b-024335e46422"
      },
      "source": [
        "a = 1, 5, 3, 7, 2\n",
        "print(a)"
      ],
      "execution_count": null,
      "outputs": [
        {
          "output_type": "stream",
          "name": "stdout",
          "text": [
            "(1, 5, 3, 7, 2)\n"
          ]
        }
      ]
    },
    {
      "cell_type": "code",
      "metadata": {
        "id": "l9s7mkjuj4Qq",
        "colab": {
          "base_uri": "https://localhost:8080/"
        },
        "outputId": "eadfdf93-904a-400f-f4bc-3114a08e3894"
      },
      "source": [
        "# [1] a의 합을 구한다\n",
        "sum(a)"
      ],
      "execution_count": null,
      "outputs": [
        {
          "output_type": "execute_result",
          "data": {
            "text/plain": [
              "18"
            ]
          },
          "metadata": {},
          "execution_count": 43
        }
      ]
    },
    {
      "cell_type": "code",
      "source": [
        "help(sum)\n",
        "\n",
        "# iterable : 반복가능한 객체 -- 묶어줘야함\n",
        "# iterator : 반복객체"
      ],
      "metadata": {
        "colab": {
          "base_uri": "https://localhost:8080/"
        },
        "id": "OBj05BjOx2Um",
        "outputId": "39e6e7b3-f313-4724-c71b-dcb9e1243692"
      },
      "execution_count": null,
      "outputs": [
        {
          "output_type": "stream",
          "name": "stdout",
          "text": [
            "Help on built-in function sum in module builtins:\n",
            "\n",
            "sum(iterable, start=0, /)\n",
            "    Return the sum of a 'start' value (default: 0) plus an iterable of numbers\n",
            "    \n",
            "    When the iterable is empty, return the start value.\n",
            "    This function is intended specifically for use with numeric values and may\n",
            "    reject non-numeric types.\n",
            "\n"
          ]
        }
      ]
    },
    {
      "cell_type": "code",
      "metadata": {
        "id": "AZ0FanSijrEh",
        "colab": {
          "base_uri": "https://localhost:8080/"
        },
        "outputId": "acb50893-8ecb-4659-fe0d-4f728f3c0e36"
      },
      "source": [
        "# [2] a의 item 중에서 가장 큰 것을 구한다.\n",
        "max(a)"
      ],
      "execution_count": null,
      "outputs": [
        {
          "output_type": "execute_result",
          "data": {
            "text/plain": [
              "7"
            ]
          },
          "metadata": {},
          "execution_count": 44
        }
      ]
    },
    {
      "cell_type": "code",
      "metadata": {
        "id": "jsP7uZzTj2FG",
        "colab": {
          "base_uri": "https://localhost:8080/"
        },
        "outputId": "daf8b0ed-db4e-4c63-d9be-0388a1d6f471"
      },
      "source": [
        "# [3] a의 item 중에서 가장 작은 것을 구한다.\n",
        "min(a), min(1,3,5,7,9), min([1,3,5,7,9])"
      ],
      "execution_count": null,
      "outputs": [
        {
          "output_type": "execute_result",
          "data": {
            "text/plain": [
              "(1, 1, 1)"
            ]
          },
          "metadata": {},
          "execution_count": 48
        }
      ]
    },
    {
      "cell_type": "code",
      "metadata": {
        "id": "bWF2e-LqkUk7",
        "colab": {
          "base_uri": "https://localhost:8080/"
        },
        "outputId": "c02ce89f-b6a7-4917-88b1-2a1e07edc35e"
      },
      "source": [
        "# [4] 객체의 메모리 사용량을 측정한다.\n",
        "import sys  # Python module\n",
        "sys.getsizeof(a)"
      ],
      "execution_count": null,
      "outputs": [
        {
          "output_type": "execute_result",
          "data": {
            "text/plain": [
              "96"
            ]
          },
          "metadata": {},
          "execution_count": 50
        }
      ]
    },
    {
      "cell_type": "code",
      "metadata": {
        "id": "CdL5tixgPo1s",
        "colab": {
          "base_uri": "https://localhost:8080/"
        },
        "outputId": "b1e675dd-dc33-4f8e-b93d-3812fee0f353"
      },
      "source": [
        "# [5] 반올림을 한다\n",
        "# round(x [,ndigits])\n",
        "# ndigits는 음수, 0, 양수 일 수 있음\n",
        "# x에 대해 ndigits에 따라 반올림\n",
        "num = 863.256\n",
        "print(round(num, 2))\n",
        "print(round(num, 1))\n",
        "print(round(num, 0))\n",
        "print(round(num, -1))\n",
        "print(round(num, -2))"
      ],
      "execution_count": null,
      "outputs": [
        {
          "output_type": "stream",
          "name": "stdout",
          "text": [
            "863.26\n",
            "863.3\n",
            "863.0\n",
            "860.0\n",
            "900.0\n"
          ]
        }
      ]
    },
    {
      "cell_type": "code",
      "metadata": {
        "id": "yXlw-4jI3nB8"
      },
      "source": [
        "# 일련의 동작을 포함하여 반복되는 작업은 함수를 만들어 사용하면 편리하다."
      ],
      "execution_count": null,
      "outputs": []
    },
    {
      "cell_type": "code",
      "metadata": {
        "colab": {
          "base_uri": "https://localhost:8080/"
        },
        "id": "X56GSF7Bpq67",
        "outputId": "03c7ecf6-e509-40c4-d6b6-5fa6c11eca78"
      },
      "source": [
        "import random # 난수\n",
        "\n",
        "random.seed(1) # 난수 생성 규칙 정하기\n",
        "arr = random.sample(range(1, 101), 10) # 모집단 : 1 ~ 100, 표본 : 10개\n",
        "# type(arr) = list\n",
        "m = max(arr)\n",
        "print(arr, m, sep='\\n')"
      ],
      "execution_count": null,
      "outputs": [
        {
          "output_type": "stream",
          "name": "stdout",
          "text": [
            "[18, 73, 98, 9, 33, 16, 64, 58, 61, 84]\n",
            "98\n"
          ]
        }
      ]
    },
    {
      "cell_type": "code",
      "source": [
        "# set : 중복 제거\n",
        "random.sample(set([1,1,2,2,3,3]),3)"
      ],
      "metadata": {
        "colab": {
          "base_uri": "https://localhost:8080/"
        },
        "id": "qxzf5wXz04EY",
        "outputId": "595752ce-d4e4-452c-9cbd-35bcb7fa18c9"
      },
      "execution_count": null,
      "outputs": [
        {
          "output_type": "execute_result",
          "data": {
            "text/plain": [
              "[2, 1, 3]"
            ]
          },
          "metadata": {},
          "execution_count": 61
        }
      ]
    },
    {
      "cell_type": "code",
      "source": [
        "# 로또번호 만들기\n",
        "\n",
        "for _ in range(5):\n",
        "    lotto = random.sample(range(1, 46), 6)\n",
        "    lotto.sort()\n",
        "    print(lotto)"
      ],
      "metadata": {
        "colab": {
          "base_uri": "https://localhost:8080/"
        },
        "id": "-hqSM5raz1Oi",
        "outputId": "9e7c6d97-84bf-41c1-f0b3-d2e5da05e5da"
      },
      "execution_count": null,
      "outputs": [
        {
          "output_type": "stream",
          "name": "stdout",
          "text": [
            "[8, 13, 22, 28, 33, 43]\n",
            "[19, 20, 26, 32, 33, 38]\n",
            "[3, 16, 26, 27, 31, 38]\n",
            "[6, 12, 24, 36, 43, 45]\n",
            "[7, 11, 29, 33, 34, 43]\n"
          ]
        }
      ]
    },
    {
      "cell_type": "code",
      "source": [
        "<성능>\n",
        "모델 - 예측을 잘한다.\n",
        "프로그램(app) - 게임, 가계부, 탐색기 : 빠르게 분석, 메모리 적게 사용"
      ],
      "metadata": {
        "id": "09eapfQ61slR"
      },
      "execution_count": null,
      "outputs": []
    },
    {
      "cell_type": "markdown",
      "metadata": {
        "id": "Jf6sPtUy34iD"
      },
      "source": [
        "### 2-02. 함수의 필요성, 용어, 정의  \n",
        "- 특정 작업을 수행하는 명령문의 그룹\n",
        "- 프로그램의 기능 단위로 모듈을 구성하는데 사용됨\n",
        "- 프로그램이 복잡해지고 커질 때 함수를 사용하면 체계적이고 관리도 쉬워짐\n",
        "- 코드의 반복을 피할 수 있고, 코드의 재사용이 가능함\n",
        "    \n",
        "- 참고 : https://youtu.be/EoUCOihCFG0 (깨봉수학 함수의 정의 참조)\n",
        "- 용어\n",
        "    - argument : 인수, 함수에 전달하는 객체, 실체(instance, object)\n",
        "    - parameter : 매개변수, 인수를 가리킬 이름 (인수를 저장할 변수)\n",
        "    - return : 반환 \n",
        "- 함수의 정의\n",
        "    - ```def 함수명(parameter_list) :```\n",
        "        - ```statements```\n",
        "        - ```return 반환값```    "
      ]
    },
    {
      "cell_type": "markdown",
      "metadata": {
        "id": "i3Jtn0Mv4Sti"
      },
      "source": [
        "- 함수 호출 => expression\n",
        "    - 함수를 정의한 후에는 다른 함수, 프로그램 등에서 호출\n",
        "    - 함수를 호출하기 위해서는 argument를 전달해야 함\n",
        "- return\n",
        "    - return 문은 함수를 종료하고 함수를 호출한 곳으로 돌아가는 데 사용\n",
        "    - return 문은 expression을 반환 함\n",
        "    - return 문 뒤에 expression이 없거나, return 문 자체가 없으면 함수는 None 반환\n"
      ]
    },
    {
      "cell_type": "code",
      "metadata": {
        "colab": {
          "base_uri": "https://localhost:8080/"
        },
        "id": "eSEiW-l-mX32",
        "outputId": "4e08a149-a8d0-45d9-a264-96e74c770bd1"
      },
      "source": [
        "def add(a, b):\n",
        "    return a + b\n",
        "\n",
        "result = add(10, 20)\n",
        "print(result)"
      ],
      "execution_count": null,
      "outputs": [
        {
          "output_type": "stream",
          "text": [
            "30\n"
          ],
          "name": "stdout"
        }
      ]
    },
    {
      "cell_type": "markdown",
      "metadata": {
        "id": "GSLCH8Bj4mgH"
      },
      "source": [
        "### 2-03. 함수의 형태"
      ]
    },
    {
      "cell_type": "code",
      "metadata": {
        "id": "ydGD1McP4jih",
        "colab": {
          "base_uri": "https://localhost:8080/"
        },
        "outputId": "6e8e8748-8106-4d08-b7fb-d87f7e770b3b"
      },
      "source": [
        "# parameter, return 모두 없는 형태\n",
        "def func():\n",
        "    print(\"func\")   \n",
        "    \n",
        "x = func()\n",
        "print(x)"
      ],
      "execution_count": null,
      "outputs": [
        {
          "output_type": "stream",
          "text": [
            "func\n",
            "None\n"
          ],
          "name": "stdout"
        }
      ]
    },
    {
      "cell_type": "code",
      "metadata": {
        "id": "oikwQ6pT4ppO",
        "colab": {
          "base_uri": "https://localhost:8080/"
        },
        "outputId": "d2e946ae-e93d-418a-c603-7f5b9ab4f119"
      },
      "source": [
        "# parameter 없고 return 있는 형태\n",
        "def func():\n",
        "   return \"run func!\"\n",
        "   \n",
        "x = func()\n",
        "print(x)"
      ],
      "execution_count": null,
      "outputs": [
        {
          "output_type": "stream",
          "text": [
            "run func!\n"
          ],
          "name": "stdout"
        }
      ]
    },
    {
      "cell_type": "code",
      "metadata": {
        "id": "dEw4YNPQrKME"
      },
      "source": [
        "# parameter 없고 return 있는 형태\n",
        "globals()"
      ],
      "execution_count": null,
      "outputs": []
    },
    {
      "cell_type": "code",
      "metadata": {
        "id": "yWywg4H64qrr",
        "colab": {
          "base_uri": "https://localhost:8080/"
        },
        "outputId": "119e4724-54c2-497f-9a89-52621d5d4c9c"
      },
      "source": [
        "# parameter, return 모두 있는 형태\n",
        "def func1(a, b):\n",
        "    return a+b\n",
        "\n",
        "x = func1(1, 2)\n",
        "print(x)"
      ],
      "execution_count": null,
      "outputs": [
        {
          "output_type": "execute_result",
          "data": {
            "text/plain": [
              "3"
            ]
          },
          "metadata": {
            "tags": []
          },
          "execution_count": 2
        }
      ]
    },
    {
      "cell_type": "code",
      "metadata": {
        "id": "aTDXeCc44sAg",
        "colab": {
          "base_uri": "https://localhost:8080/"
        },
        "outputId": "57335faf-9f22-4026-e84b-8d18cd480d99"
      },
      "source": [
        "# parameter 있고, return 없는 형태\n",
        "def func2(a, b):\n",
        "    print(a + b)\n",
        "\n",
        "x = func2(1, 2)\n",
        "print(x)"
      ],
      "execution_count": null,
      "outputs": [
        {
          "output_type": "stream",
          "text": [
            "3\n",
            "None\n"
          ],
          "name": "stdout"
        }
      ]
    },
    {
      "cell_type": "markdown",
      "metadata": {
        "id": "7DQW5h1C4vbi"
      },
      "source": [
        "### 2-04. argument의 종류\n",
        "- 함수의 호출시 사용되는 argument    \n",
        "    - positional argument : 위치에 따라 값이 전달되는 방식\n",
        "    - keyword argument : = 를 사용하여 특정 parameter에 값을 제공함, 순서에 상관 없음\n",
        "- 함수 정의시 사용되는 argument\n",
        "    - default argument : 새로운 argument가 전달되지 않을 경우 사용되는 기본 값\n",
        "- Python의 argument rule\n",
        "     1. 함수 정의 시 : non-default argument가 앞, default argument가 뒤에 위치해야 한다.\n",
        "     2. 함수 호출 시 : positional argument가 앞, keyword argument가 뒤에 위치해야 한다."
      ]
    },
    {
      "cell_type": "code",
      "metadata": {
        "id": "OIbizkNL41EI",
        "colab": {
          "base_uri": "https://localhost:8080/"
        },
        "outputId": "cbe46fa0-9b29-4b33-8ac9-6d4007dbc824"
      },
      "source": [
        "def function(a, b):  # a, b : parameter\n",
        "    return [a, b]\n",
        "\n",
        "# 어떻게 사용하는 것일까요?\n",
        "x = function(10, 20)       # positional argument - '순서'에 의해서 parameter에 argument를 전달하는 방식\n",
        "y = function(b=10, a=20)   # keyword argument - parameter를 '지정'하여 argument를 전달하는 방식\n",
        "print(x, y)"
      ],
      "execution_count": null,
      "outputs": [
        {
          "output_type": "stream",
          "name": "stdout",
          "text": [
            "[10, 20] [20, 10]\n"
          ]
        }
      ]
    },
    {
      "cell_type": "code",
      "metadata": {
        "id": "Rakc25MD44Zj",
        "colab": {
          "base_uri": "https://localhost:8080/"
        },
        "outputId": "7e94a0c6-12ac-4db1-e302-1c4cec8449ed"
      },
      "source": [
        "# default argument  (b = 0), non - default argument (a)\n",
        "def mySum(a, b = 0):   # def mySum(a = 1, b):  (불가능)\n",
        "  return a + b\n",
        "\n",
        "mySum(10), mySum(10, 5)"
      ],
      "execution_count": null,
      "outputs": [
        {
          "output_type": "execute_result",
          "data": {
            "text/plain": [
              "(10, 15)"
            ]
          },
          "metadata": {},
          "execution_count": 63
        }
      ]
    },
    {
      "cell_type": "code",
      "metadata": {
        "id": "ecNapH7-5IS_",
        "colab": {
          "base_uri": "https://localhost:8080/"
        },
        "outputId": "3ee89ce5-ba22-49fc-efea-d5f6b4e6b0dd"
      },
      "source": [
        "# Error - positional argument follows keyword argument\n",
        "def func(a, b, c):\n",
        "  return a + b + c\n",
        "\n",
        "#func(a=10, b=20, c)\n",
        "func(10, c=20, b=30)"
      ],
      "execution_count": null,
      "outputs": [
        {
          "output_type": "execute_result",
          "data": {
            "text/plain": [
              "60"
            ]
          },
          "metadata": {},
          "execution_count": 65
        }
      ]
    },
    {
      "cell_type": "code",
      "metadata": {
        "id": "iaVMoHxI5Nk8",
        "colab": {
          "base_uri": "https://localhost:8080/"
        },
        "outputId": "a8f31d68-8654-4651-af02-b7328c2029d8"
      },
      "source": [
        "# Error - non-default argument follows default argument\n",
        "#def func(a=1, b=2, c) : \n",
        "def func(a, b=1, c=2):\n",
        "  return a + b + c\n",
        "\n",
        "func(10)"
      ],
      "execution_count": null,
      "outputs": [
        {
          "output_type": "execute_result",
          "data": {
            "text/plain": [
              "13"
            ]
          },
          "metadata": {},
          "execution_count": 66
        }
      ]
    },
    {
      "cell_type": "markdown",
      "metadata": {
        "id": "G93asFFc5d7O"
      },
      "source": [
        "### 2-05. parameter의 종류\n",
        "어떤 종류의 argument를 전달 할 수 있는가?!\n",
        "\n",
        "**positional or keyword parameter   ```(a, b, c)```**\n",
        "- parameter 앞쪽으로 *, 뒤쪽으로 ,/ 가 없음\n",
        "\n",
        "**positional only parameter  ```(a, b, /)```**  # v3.8 부터\n",
        "- parameter 뒤쪽으로 ,/가 있음\n",
        "\n",
        "**keyword only parameter   ```(*, a, b)  (*a, b, c)```**\n",
        "- parameter 앞쪽으로 *, 가 있음 (이름과 떨어진 상태로)\n",
        "\n",
        "**var-positional parameter**  ```(*a)```\n",
        "- parameter 이름에 *가 하나 붙어 있음\n",
        "- tuple 형태로 전달된다\n",
        "\n",
        "**var-keyword parameter**  ```(**a)```\n",
        "- parameter 이름에 *이 두개 붙어 있음\n",
        "- dict 형태로 전달된다\n",
        "\n",
        "> var는 0개 이상의 가변적 argument를 의미한다"
      ]
    },
    {
      "cell_type": "code",
      "metadata": {
        "id": "eEdj3ntwNSW-",
        "colab": {
          "base_uri": "https://localhost:8080/"
        },
        "outputId": "891ca061-df4a-4be0-c006-babcc169ed93"
      },
      "source": [
        "# positional or keyword parameter\n",
        "def func(a) :\n",
        "    print(a)\n",
        "\n",
        "func(10)    # positional argument\n",
        "func(a=20)  # keyword argument"
      ],
      "execution_count": null,
      "outputs": [
        {
          "output_type": "stream",
          "name": "stdout",
          "text": [
            "10\n",
            "20\n"
          ]
        }
      ]
    },
    {
      "cell_type": "code",
      "metadata": {
        "id": "STKjQKL_NSYw"
      },
      "source": [
        "# positional only parameter\n",
        "# python v3.8 이상에서 사용 가능\n",
        "def func(a, b, /) :\n",
        "    print(a)\n",
        "  \n",
        "func(10, 20) # positional argument"
      ],
      "execution_count": null,
      "outputs": []
    },
    {
      "cell_type": "code",
      "metadata": {
        "id": "Bir9w3n0NSTp",
        "colab": {
          "base_uri": "https://localhost:8080/"
        },
        "outputId": "73319336-24d7-4dd5-c38e-a96c70eef101"
      },
      "source": [
        "# keyword 'only' parameter\n",
        "def func(*, a, b) :\n",
        "    print(a)\n",
        "\n",
        "func(b=20, a=10)    # keyword argument \n",
        "#func(10, 20)  # Error"
      ],
      "execution_count": null,
      "outputs": [
        {
          "output_type": "stream",
          "name": "stdout",
          "text": [
            "10\n"
          ]
        }
      ]
    },
    {
      "cell_type": "code",
      "metadata": {
        "id": "rimHowVhNSQg",
        "colab": {
          "base_uri": "https://localhost:8080/"
        },
        "outputId": "8c618195-03ab-4018-8cd0-f172daf1cd0a"
      },
      "source": [
        "# Quiz - 각 parameter의 종류가 무엇인지 적어보세요\n",
        "# a : ( positional or keyword) parameter\n",
        "# b, c : ( keyword only ) parameter\n",
        "def func(a, *, b, c) :\n",
        "  return a + b + c    # ( a = 10, b = 20, c = 30)\n",
        "\n",
        "#func(10, b = 20, c = 30)    # a를 positional argument\n",
        "#func(a=10, b = 20, c = 30)  # a를 keyword argument\n",
        "func(c = 30, b = 20, a=10)   # keyword argument 일때는 순서가 중요하지 않음"
      ],
      "execution_count": null,
      "outputs": [
        {
          "output_type": "execute_result",
          "data": {
            "text/plain": [
              "60"
            ]
          },
          "metadata": {},
          "execution_count": 71
        }
      ]
    },
    {
      "cell_type": "code",
      "source": [
        "help(print)\n",
        "# print(*value, ..., sep=' ', end='\\n', file=sys.stdout, flush=False)"
      ],
      "metadata": {
        "colab": {
          "base_uri": "https://localhost:8080/"
        },
        "id": "yNq6VanlAilD",
        "outputId": "79edebe6-0220-4068-92fc-9ff0ae23091e"
      },
      "execution_count": null,
      "outputs": [
        {
          "output_type": "stream",
          "name": "stdout",
          "text": [
            "Help on built-in function print in module builtins:\n",
            "\n",
            "print(...)\n",
            "    print(value, ..., sep=' ', end='\\n', file=sys.stdout, flush=False)\n",
            "    \n",
            "    Prints the values to a stream, or to sys.stdout by default.\n",
            "    Optional keyword arguments:\n",
            "    file:  a file-like object (stream); defaults to the current sys.stdout.\n",
            "    sep:   string inserted between values, default a space.\n",
            "    end:   string appended after the last value, default a newline.\n",
            "    flush: whether to forcibly flush the stream.\n",
            "\n"
          ]
        }
      ]
    },
    {
      "cell_type": "code",
      "metadata": {
        "id": "aQ70Ifi5Nd2_",
        "colab": {
          "base_uri": "https://localhost:8080/"
        },
        "outputId": "2f180336-6dca-49b7-b40b-7ca00d84d0a4"
      },
      "source": [
        "# var positional parameter\n",
        "# a의 type은 무엇일까요? tuple\n",
        "\n",
        "def func (*a):\n",
        "    print(type(a), a)  # tuple로 묶어주기\n",
        "\n",
        "func(1,2,3,4,5,6,7)\n",
        "func(1,2,3)\n",
        "func()    "
      ],
      "execution_count": null,
      "outputs": [
        {
          "output_type": "stream",
          "name": "stdout",
          "text": [
            "<class 'tuple'> (1, 2, 3, 4, 5, 6, 7)\n",
            "<class 'tuple'> (1, 2, 3)\n",
            "<class 'tuple'> ()\n"
          ]
        }
      ]
    },
    {
      "cell_type": "code",
      "metadata": {
        "id": "qeLl-6-tNdtW",
        "colab": {
          "base_uri": "https://localhost:8080/"
        },
        "outputId": "acb32506-76fa-4d28-bf6b-2e0dd343ce2e"
      },
      "source": [
        "# Quiz - 각 parameter의 종류가 무엇인지 적어보세요\n",
        "# a : (var - positional) parameter - default argument를 갖지 못함\n",
        "# b : ( keyword only ) parameter\n",
        "def func (*a, b):\n",
        "    print(type(a), a)\n",
        "    print(b)\n",
        "\n",
        "func(1,2,3,4,5,6,7, b = 10)\n",
        "func(b=20)  "
      ],
      "execution_count": null,
      "outputs": [
        {
          "output_type": "stream",
          "name": "stdout",
          "text": [
            "<class 'tuple'> (1, 2, 3, 4, 5, 6, 7)\n",
            "10\n",
            "<class 'tuple'> ()\n",
            "20\n"
          ]
        }
      ]
    },
    {
      "cell_type": "code",
      "metadata": {
        "id": "66wTJxyjNhgk",
        "colab": {
          "base_uri": "https://localhost:8080/"
        },
        "outputId": "900eae1d-6104-44fc-c2c8-c419a26860fa"
      },
      "source": [
        "# var-keyword parameter : 맨 마지막 parameter로만 사용가능\n",
        "# a의 type은 무엇일까요? dict\n",
        "def func(**a) :\n",
        "    print(type(a), a)\n",
        "\n",
        "func(A=10, B=20, C=30, D=40)    \n",
        "func()"
      ],
      "execution_count": null,
      "outputs": [
        {
          "output_type": "stream",
          "name": "stdout",
          "text": [
            "<class 'dict'> {'A': 10, 'B': 20, 'C': 30, 'D': 40}\n",
            "<class 'dict'> {}\n"
          ]
        }
      ]
    },
    {
      "cell_type": "code",
      "source": [
        "x = {'A':10, 'B':20, 'C':30, 'D':40}\n",
        "x['A']"
      ],
      "metadata": {
        "colab": {
          "base_uri": "https://localhost:8080/"
        },
        "id": "TIH8p5OXBVot",
        "outputId": "b4ceef63-b608-4615-fe9b-1945fd2a8dc6"
      },
      "execution_count": null,
      "outputs": [
        {
          "output_type": "execute_result",
          "data": {
            "text/plain": [
              "10"
            ]
          },
          "metadata": {},
          "execution_count": 79
        }
      ]
    },
    {
      "cell_type": "markdown",
      "source": [
        "## Section 3 : Pandas API\n",
        "- https://pandas.pydata.org/docs/reference/index.html\n",
        "- https://pandas.pydata.org/docs/reference/api/pandas.read_csv.html#pandas.read_csv"
      ],
      "metadata": {
        "id": "K9bPi37u8FoS"
      }
    },
    {
      "cell_type": "code",
      "source": [
        "import pandas as pd\n",
        "s = pd.Series([1,2,3,4])\n",
        "print(s.max(), s.min(), s.mean(), s.var(), s.std(), s.head(), sep='\\n')"
      ],
      "metadata": {
        "colab": {
          "base_uri": "https://localhost:8080/"
        },
        "id": "zTasyH2LB_ko",
        "outputId": "bfc95e29-e355-4e34-adb4-085a68fc74f2"
      },
      "execution_count": null,
      "outputs": [
        {
          "output_type": "stream",
          "name": "stdout",
          "text": [
            "4\n",
            "1\n",
            "2.5\n",
            "1.6666666666666667\n",
            "1.2909944487358056\n",
            "0    1\n",
            "1    2\n",
            "2    3\n",
            "3    4\n",
            "dtype: int64\n"
          ]
        }
      ]
    },
    {
      "cell_type": "code",
      "source": [
        "# python - 속성\n",
        "# pandas - 집중학습\n",
        "# pandas 작업형1 - 여러 사이트를 통해 문제 풀이\n",
        "# pandas 작업형2 - 기본 모델링 성공 (탐색 - 전처리 - 모델링)"
      ],
      "metadata": {
        "id": "HMGuBxDmCA9p"
      },
      "execution_count": null,
      "outputs": []
    }
  ]
}